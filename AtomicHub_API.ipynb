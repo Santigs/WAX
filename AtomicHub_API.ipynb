{
  "nbformat": 4,
  "nbformat_minor": 0,
  "metadata": {
    "colab": {
      "name": "AtomicHub_API.ipynb",
      "provenance": [],
      "collapsed_sections": [],
      "authorship_tag": "ABX9TyODFBtLwvsGRFPZxPK9uati",
      "include_colab_link": true
    },
    "kernelspec": {
      "name": "python3",
      "display_name": "Python 3"
    }
  },
  "cells": [
    {
      "cell_type": "markdown",
      "metadata": {
        "id": "view-in-github",
        "colab_type": "text"
      },
      "source": [
        "<a href=\"https://colab.research.google.com/github/Santigs/WAX/blob/main/AtomicHub_API.ipynb\" target=\"_parent\"><img src=\"https://colab.research.google.com/assets/colab-badge.svg\" alt=\"Open In Colab\"/></a>"
      ]
    },
    {
      "cell_type": "code",
      "metadata": {
        "id": "KYXFBKg6pAu-"
      },
      "source": [
        "# make sure you have installed the api\n",
        "# https://pypi.org/project/daltonapi/\n",
        "!pip install daltonapi"
      ],
      "execution_count": null,
      "outputs": []
    },
    {
      "cell_type": "code",
      "metadata": {
        "id": "63-_Nnf9pHSM"
      },
      "source": [
        "import pandas as pd\n",
        "import numpy as np\n",
        "import matplotlib.pyplot as plt\n",
        "import seaborn as sns; sns.set()\n",
        "from daltonapi.api import Atom"
      ],
      "execution_count": null,
      "outputs": []
    },
    {
      "cell_type": "code",
      "metadata": {
        "id": "rI-vBqGhpKRf",
        "colab": {
          "base_uri": "https://localhost:8080/"
        },
        "outputId": "4d98b141-1eae-45bb-cff9-0a06ff73564a"
      },
      "source": [
        "atom = Atom()\n",
        "\n",
        "# getting asset info\n",
        "my_asset = atom.get_asset(\"1099536698430\")\n",
        "print(my_asset)\n",
        "print(my_asset.image)\n"
      ],
      "execution_count": null,
      "outputs": [
        {
          "output_type": "stream",
          "text": [
            "Asset 1099536698430:  grimfolkscol - The Great Burning  #11/29 (Max Supply: 0)\n",
            "https://ipfs.io/ipfs/QmV1WEs5ggf8iwzuCPsi7cV9BfhPcGVYMeZSYMZFfmeDR3\n"
          ],
          "name": "stdout"
        }
      ]
    },
    {
      "cell_type": "code",
      "metadata": {
        "colab": {
          "base_uri": "https://localhost:8080/"
        },
        "id": "bsCs-wEkAWHT",
        "outputId": "fa081404-a0a9-4352-e230-c32194986132"
      },
      "source": [
        "# getting collection info\n",
        "collection = my_asset.collection\n",
        "print(\"Collection:\",collection)"
      ],
      "execution_count": null,
      "outputs": [
        {
          "output_type": "stream",
          "text": [
            "Collection: Collection(grimfolkscol)\n"
          ],
          "name": "stdout"
        }
      ]
    },
    {
      "cell_type": "code",
      "metadata": {
        "id": "kjlPDGMT-xou"
      },
      "source": [
        "# Get assets using owner and template as strings\n",
        "assets = atom.get_assets(owner=\"grimfolksbag\", template = \"130220\")\n",
        "assets"
      ],
      "execution_count": null,
      "outputs": []
    },
    {
      "cell_type": "code",
      "metadata": {
        "colab": {
          "base_uri": "https://localhost:8080/"
        },
        "id": "nZl-aofKB0Ro",
        "outputId": "b3a7de7c-0781-451c-cd0d-1b1bc6c622eb"
      },
      "source": [
        "assets[0]"
      ],
      "execution_count": null,
      "outputs": [
        {
          "output_type": "execute_result",
          "data": {
            "text/plain": [
              "Asset(1099536698439)"
            ]
          },
          "metadata": {
            "tags": []
          },
          "execution_count": 22
        }
      ]
    },
    {
      "cell_type": "code",
      "metadata": {
        "id": "wv7em-YvBXk2"
      },
      "source": [
        "# Create dataframe\n",
        "assets_df= pd.DataFrame(assets)\n",
        "assets_df"
      ],
      "execution_count": null,
      "outputs": []
    }
  ]
}