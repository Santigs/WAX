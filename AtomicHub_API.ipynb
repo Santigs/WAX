{
  "nbformat": 4,
  "nbformat_minor": 0,
  "metadata": {
    "colab": {
      "name": "AtomicHub_API.ipynb",
      "provenance": [],
      "collapsed_sections": [],
      "authorship_tag": "ABX9TyM0XP/cqPSDCIn025Oa+tua",
      "include_colab_link": true
    },
    "kernelspec": {
      "name": "python3",
      "display_name": "Python 3"
    }
  },
  "cells": [
    {
      "cell_type": "markdown",
      "metadata": {
        "id": "view-in-github",
        "colab_type": "text"
      },
      "source": [
        "<a href=\"https://colab.research.google.com/github/Santigs/WAX/blob/main/AtomicHub_API.ipynb\" target=\"_parent\"><img src=\"https://colab.research.google.com/assets/colab-badge.svg\" alt=\"Open In Colab\"/></a>"
      ]
    },
    {
      "cell_type": "code",
      "metadata": {
        "id": "KYXFBKg6pAu-",
        "colab": {
          "base_uri": "https://localhost:8080/"
        },
        "outputId": "86080588-0773-4ce5-ee8c-033d447f3162"
      },
      "source": [
        "# make sure you have installed the api\n",
        "# https://wax.api.atomicassets.io/atomicassets/docs/swagger/#/accounts/get_v1_accounts\n",
        "# https://pypi.org/project/daltonapi/\n",
        "!pip install daltonapi"
      ],
      "execution_count": 25,
      "outputs": [
        {
          "output_type": "stream",
          "text": [
            "Requirement already satisfied: daltonapi in /usr/local/lib/python3.7/dist-packages (0.5.0)\n",
            "Requirement already satisfied: requests<3.0.0,>=2.25.1 in /usr/local/lib/python3.7/dist-packages (from daltonapi) (2.25.1)\n",
            "Requirement already satisfied: urllib3<1.27,>=1.21.1 in /usr/local/lib/python3.7/dist-packages (from requests<3.0.0,>=2.25.1->daltonapi) (1.24.3)\n",
            "Requirement already satisfied: certifi>=2017.4.17 in /usr/local/lib/python3.7/dist-packages (from requests<3.0.0,>=2.25.1->daltonapi) (2020.12.5)\n",
            "Requirement already satisfied: idna<3,>=2.5 in /usr/local/lib/python3.7/dist-packages (from requests<3.0.0,>=2.25.1->daltonapi) (2.10)\n",
            "Requirement already satisfied: chardet<5,>=3.0.2 in /usr/local/lib/python3.7/dist-packages (from requests<3.0.0,>=2.25.1->daltonapi) (3.0.4)\n"
          ],
          "name": "stdout"
        }
      ]
    },
    {
      "cell_type": "code",
      "metadata": {
        "id": "63-_Nnf9pHSM"
      },
      "source": [
        "import pandas as pd\n",
        "import numpy as np\n",
        "import matplotlib.pyplot as plt\n",
        "import seaborn as sns; sns.set()\n",
        "from daltonapi.api import Atom"
      ],
      "execution_count": 26,
      "outputs": []
    },
    {
      "cell_type": "code",
      "metadata": {
        "id": "rI-vBqGhpKRf",
        "colab": {
          "base_uri": "https://localhost:8080/"
        },
        "outputId": "0276c5f1-f9da-4e6a-9ce7-53778701abae"
      },
      "source": [
        "atom = Atom()\n",
        "\n",
        "# getting asset info\n",
        "my_asset = atom.get_asset(\"1099536698430\")\n",
        "print(my_asset)\n",
        "print(my_asset.image)\n"
      ],
      "execution_count": 27,
      "outputs": [
        {
          "output_type": "stream",
          "text": [
            "Asset 1099536698430:  grimfolkscol - The Great Burning  #11/29 (Max Supply: 0)\n",
            "https://ipfs.io/ipfs/QmV1WEs5ggf8iwzuCPsi7cV9BfhPcGVYMeZSYMZFfmeDR3\n"
          ],
          "name": "stdout"
        }
      ]
    },
    {
      "cell_type": "code",
      "metadata": {
        "colab": {
          "base_uri": "https://localhost:8080/"
        },
        "id": "bsCs-wEkAWHT",
        "outputId": "fa081404-a0a9-4352-e230-c32194986132"
      },
      "source": [
        "# getting collection info\n",
        "collection = my_asset.collection\n",
        "print(\"Collection:\",collection)"
      ],
      "execution_count": null,
      "outputs": [
        {
          "output_type": "stream",
          "text": [
            "Collection: Collection(grimfolkscol)\n"
          ],
          "name": "stdout"
        }
      ]
    },
    {
      "cell_type": "code",
      "metadata": {
        "id": "kjlPDGMT-xou"
      },
      "source": [
        "# Get assets using owner and template as strings\n",
        "assets = atom.get_assets(owner=\"grimfolksbag\", template = \"130220\")\n",
        "assets"
      ],
      "execution_count": null,
      "outputs": []
    },
    {
      "cell_type": "code",
      "metadata": {
        "colab": {
          "base_uri": "https://localhost:8080/"
        },
        "id": "nZl-aofKB0Ro",
        "outputId": "b3a7de7c-0781-451c-cd0d-1b1bc6c622eb"
      },
      "source": [
        "assets[0]"
      ],
      "execution_count": null,
      "outputs": [
        {
          "output_type": "execute_result",
          "data": {
            "text/plain": [
              "Asset(1099536698439)"
            ]
          },
          "metadata": {
            "tags": []
          },
          "execution_count": 22
        }
      ]
    },
    {
      "cell_type": "code",
      "metadata": {
        "id": "wv7em-YvBXk2"
      },
      "source": [
        "# Create dataframe\n",
        "assets_df= pd.DataFrame(assets)\n",
        "assets_df"
      ],
      "execution_count": null,
      "outputs": []
    },
    {
      "cell_type": "code",
      "metadata": {
        "id": "xzlGrkDYMeeW"
      },
      "source": [
        "# Get asset owners accounts\n",
        "holders = atom.get_holders(collection='grimfolkscol', template='130220')\n",
        "\n",
        "holders_df= pd.DataFrame(holders)\n",
        "holders_df\n"
      ],
      "execution_count": null,
      "outputs": []
    },
    {
      "cell_type": "code",
      "metadata": {
        "id": "YxZWNpcEaBtw"
      },
      "source": [
        "holders_df.info()"
      ],
      "execution_count": null,
      "outputs": []
    },
    {
      "cell_type": "code",
      "metadata": {
        "id": "EHkMjViZX3An"
      },
      "source": [
        "# Charts\n",
        "# https://datavizpyr.com/\n",
        "\n",
        "plt.figure(figsize=(10,6))\n",
        "# make bar plot with matplotlib\n",
        "plt.bar('account', 'assets',data=holders_df)\n"
      ],
      "execution_count": null,
      "outputs": []
    }
  ]
}